{
 "cells": [
  {
   "cell_type": "code",
   "execution_count": 117,
   "id": "143e53f2",
   "metadata": {},
   "outputs": [],
   "source": [
    "from pyspark.sql import SparkSession, DataFrame, Row\n",
    "from pyspark.ml.tuning import ParamGridBuilder, CrossValidator\n",
    "from pyspark.sql.functions import explode, col, isnan,\\\n",
    "count, when, round, collect_list,json_tuple, from_json\n",
    "from pyspark.mllib.stat import Statistics\n",
    "from pyspark.ml.stat import Correlation\n",
    "from pyspark.ml.feature import VectorAssembler, StringIndexer, ChiSqSelector\n",
    "from sklearn.model_selection import train_test_split\n",
    "from pyspark.ml.evaluation import MulticlassClassificationEvaluator\n",
    "from pyspark.ml.classification import LogisticRegression,RandomForestClassifier,\\\n",
    "LinearSVC, MultilayerPerceptronClassifier, OneVsRest, NaiveBayes,DecisionTreeClassifier\n",
    "from pyspark.ml import Pipeline, PipelineModel\n",
    "import pandas as pd\n",
    "from pyspark.sql.functions import lit\n",
    "import matplotlib.pyplot as plt\n",
    "import seaborn as sns\n",
    "import json\n",
    "import pickle\n",
    "import os\n",
    "import time\n",
    "import random\n",
    "from kafka import KafkaConsumer, KafkaProducer\n",
    "%matplotlib inline"
   ]
  },
  {
   "cell_type": "code",
   "execution_count": 16,
   "id": "93362ffa",
   "metadata": {},
   "outputs": [],
   "source": [
    "import findspark\n",
    "findspark.init()"
   ]
  },
  {
   "cell_type": "code",
   "execution_count": 2,
   "id": "b98b6eb3",
   "metadata": {},
   "outputs": [],
   "source": [
    "path_offline_dataset = 'E:\\\\Downloads\\\\diabetes_dataset\\\\offline.csv'\n",
    "path_variable_importances = 'variable_importance.csv'\n",
    "best_top_n = 8"
   ]
  },
  {
   "cell_type": "code",
   "execution_count": 3,
   "id": "55162e2d",
   "metadata": {},
   "outputs": [],
   "source": [
    "spark = SparkSession.builder.master(\"local[*]\") \\\n",
    "        .appName('online_part').getOrCreate()"
   ]
  },
  {
   "cell_type": "code",
   "execution_count": 18,
   "id": "735cf9a5",
   "metadata": {},
   "outputs": [],
   "source": [
    "SCALA_VERSION = '2.12'\n",
    "SPARK_VERSION = spark.version"
   ]
  },
  {
   "cell_type": "code",
   "execution_count": 36,
   "id": "0f83615e",
   "metadata": {},
   "outputs": [],
   "source": [
    "os.environ['PYSPARK_SUBMIT_ARGS'] = f'--packages org.apache.spark:spark-sql-kafka-0-10_{SCALA_VERSION}:{SPARK_VERSION},org.apache.kafka:kafka-clients:2.8.1'\n"
   ]
  },
  {
   "cell_type": "markdown",
   "id": "aa419d83",
   "metadata": {},
   "source": [
    "## Read offline dataset, selected features and initialize preprocessing tools"
   ]
  },
  {
   "cell_type": "code",
   "execution_count": 23,
   "id": "64e26d31",
   "metadata": {},
   "outputs": [
    {
     "data": {
      "text/plain": [
       "DataFrame[HighBP: int, HighChol: int, CholCheck: int, BMI: int, Smoker: int, Stroke: int, HeartDiseaseorAttack: int, PhysActivity: int, Fruits: int, Veggies: int, HvyAlcoholConsump: int, AnyHealthcare: int, NoDocbcCost: int, GenHlth: int, MentHlth: int, PhysHlth: int, DiffWalk: int, Sex: int, Age: int, Education: int, Income: int, Diabetes_012: int]"
      ]
     },
     "execution_count": 23,
     "metadata": {},
     "output_type": "execute_result"
    }
   ],
   "source": [
    "df = spark.read.csv(path_offline_dataset, inferSchema=True, encoding='utf-8', header=True)\n",
    "df.cache()\n"
   ]
  },
  {
   "cell_type": "code",
   "execution_count": 24,
   "id": "b60be9e7",
   "metadata": {},
   "outputs": [
    {
     "name": "stdout",
     "output_type": "stream",
     "text": [
      "+---+--------------------+----------+-----------------------+\n",
      "|_c0|         column_name|importance|correlation_with_target|\n",
      "+---+--------------------+----------+-----------------------+\n",
      "|  0|                 BMI|     0.143|                  0.226|\n",
      "|  1|                 Age|     0.109|                  0.185|\n",
      "|  2|             GenHlth|     0.094|                  0.304|\n",
      "|  3|              Income|     0.089|                  0.172|\n",
      "|  4|            PhysHlth|     0.088|                  0.177|\n",
      "|  5|              HighBP|     0.064|                  0.271|\n",
      "|  6|           Education|     0.064|                  0.131|\n",
      "|  7|            HighChol|     0.035|                  0.209|\n",
      "|  8|            DiffWalk|     0.027|                  0.227|\n",
      "|  9|        PhysActivity|     0.027|                  0.124|\n",
      "| 10|HeartDiseaseorAttack|     0.022|                   0.18|\n",
      "+---+--------------------+----------+-----------------------+\n",
      "\n"
     ]
    }
   ],
   "source": [
    "df_selected_features = spark.read.csv('variable_importance.csv', inferSchema=True, encoding='utf-8', header=True)\n",
    "df_selected_features.show()\n"
   ]
  },
  {
   "cell_type": "code",
   "execution_count": 86,
   "id": "e5c2a754",
   "metadata": {},
   "outputs": [
    {
     "data": {
      "text/plain": [
       "['BMI',\n",
       " 'Age',\n",
       " 'GenHlth',\n",
       " 'Income',\n",
       " 'PhysHlth',\n",
       " 'HighBP',\n",
       " 'Education',\n",
       " 'HighChol']"
      ]
     },
     "execution_count": 86,
     "metadata": {},
     "output_type": "execute_result"
    }
   ],
   "source": [
    "variables = [row.column_name for row in df_selected_features.select('column_name').take(best_top_n)]\n",
    "variables"
   ]
  },
  {
   "cell_type": "code",
   "execution_count": 26,
   "id": "84065db1",
   "metadata": {},
   "outputs": [
    {
     "name": "stdout",
     "output_type": "stream",
     "text": [
      "+---+---+-------+------+--------+------+---------+--------+------------+\n",
      "|BMI|Age|GenHlth|Income|PhysHlth|HighBP|Education|HighChol|Diabetes_012|\n",
      "+---+---+-------+------+--------+------+---------+--------+------------+\n",
      "| 29|  8|      2|     8|       0|     0|        6|       1|           0|\n",
      "| 24|  9|      3|     8|       4|     0|        6|       0|           0|\n",
      "| 42|  9|      3|     7|       3|     1|        6|       1|           0|\n",
      "| 21| 10|      2|     7|       0|     1|        5|       0|           0|\n",
      "| 29|  2|      3|     3|       0|     0|        4|       0|           0|\n",
      "| 28|  4|      2|     8|       7|     0|        5|       0|           0|\n",
      "| 30|  9|      2|     8|       0|     1|        5|       0|           0|\n",
      "| 24| 12|      3|     4|       5|     1|        6|       1|           0|\n",
      "| 27|  5|      2|     8|       0|     1|        4|       0|           0|\n",
      "| 28|  1|      3|     7|       4|     0|        5|       0|           0|\n",
      "| 36|  9|      2|     6|      30|     0|        5|       0|           0|\n",
      "| 24|  9|      2|     8|       0|     0|        5|       0|           0|\n",
      "| 31| 11|      1|     7|       0|     0|        4|       0|           0|\n",
      "| 32|  6|      2|     8|       0|     0|        6|       0|           0|\n",
      "| 33|  6|      3|     8|      30|     0|        6|       0|           0|\n",
      "| 21| 10|      1|     6|       0|     0|        5|       1|           0|\n",
      "| 36|  7|      5|     7|       6|     1|        6|       1|           0|\n",
      "| 36| 10|      2|     7|       0|     1|        6|       1|           0|\n",
      "| 34| 13|      1|     7|       0|     1|        4|       1|           0|\n",
      "| 27| 10|      3|     8|       0|     0|        6|       1|           0|\n",
      "+---+---+-------+------+--------+------+---------+--------+------------+\n",
      "only showing top 20 rows\n",
      "\n"
     ]
    }
   ],
   "source": [
    "df = df.select(variables)\n",
    "df.show()"
   ]
  },
  {
   "cell_type": "code",
   "execution_count": 80,
   "id": "e5f7ff73",
   "metadata": {},
   "outputs": [],
   "source": [
    "pipeline = Pipeline(stages = [])"
   ]
  },
  {
   "cell_type": "code",
   "execution_count": 28,
   "id": "82d7805b",
   "metadata": {},
   "outputs": [],
   "source": [
    "assembler = VectorAssembler()\\\n",
    "    .setInputCols(df.drop(*['Diabetes_012']).columns)\\\n",
    "    .setOutputCol('features') "
   ]
  },
  {
   "cell_type": "code",
   "execution_count": 29,
   "id": "be5f44fb",
   "metadata": {},
   "outputs": [],
   "source": [
    "indexer = StringIndexer(stringOrderType='alphabetAsc')\\\n",
    "    .setInputCol('Diabetes_012')\\\n",
    "    .setOutputCol('label')"
   ]
  },
  {
   "cell_type": "code",
   "execution_count": 30,
   "id": "c9d1dbea",
   "metadata": {},
   "outputs": [
    {
     "data": {
      "text/plain": [
       "Pipeline_2c112ba0874b"
      ]
     },
     "execution_count": 30,
     "metadata": {},
     "output_type": "execute_result"
    }
   ],
   "source": [
    "pipeline.setStages([indexer, assembler])\n"
   ]
  },
  {
   "cell_type": "code",
   "execution_count": 31,
   "id": "8e6891d7",
   "metadata": {},
   "outputs": [],
   "source": [
    "df = pipeline.fit(df).transform(df)"
   ]
  },
  {
   "cell_type": "markdown",
   "id": "5d35ab3b",
   "metadata": {},
   "source": [
    "## Read saved models"
   ]
  },
  {
   "cell_type": "code",
   "execution_count": 32,
   "id": "46e1f913",
   "metadata": {},
   "outputs": [
    {
     "name": "stdout",
     "output_type": "stream",
     "text": [
      "{'maxDepth': 10, 'maxBins': 20, 'impurity': 'gini'}\n",
      "{'maxIter': 100, 'fitIntercept': True, 'regParam': 0.0}\n"
     ]
    }
   ],
   "source": [
    "with open ('dt_param.pkl', 'rb') as f:\n",
    "\n",
    "    dt_params = pickle.load(f)\n",
    "\n",
    "print(dt_params)\n",
    "\n",
    "with open ('lr_param.pkl', 'rb') as f:\n",
    "\n",
    "    lr_params = pickle.load(f)\n",
    "    \n",
    "print(lr_params)"
   ]
  },
  {
   "cell_type": "code",
   "execution_count": 61,
   "id": "98b50b8c",
   "metadata": {},
   "outputs": [
    {
     "name": "stdout",
     "output_type": "stream",
     "text": [
      "+---+---+-------+------+--------+------+---------+--------+------------+-----+--------------------+\n",
      "|BMI|Age|GenHlth|Income|PhysHlth|HighBP|Education|HighChol|Diabetes_012|label|            features|\n",
      "+---+---+-------+------+--------+------+---------+--------+------------+-----+--------------------+\n",
      "| 29|  8|      2|     8|       0|     0|        6|       1|           0|  0.0|[29.0,8.0,2.0,8.0...|\n",
      "| 24|  9|      3|     8|       4|     0|        6|       0|           0|  0.0|[24.0,9.0,3.0,8.0...|\n",
      "| 42|  9|      3|     7|       3|     1|        6|       1|           0|  0.0|[42.0,9.0,3.0,7.0...|\n",
      "| 21| 10|      2|     7|       0|     1|        5|       0|           0|  0.0|[21.0,10.0,2.0,7....|\n",
      "| 29|  2|      3|     3|       0|     0|        4|       0|           0|  0.0|[29.0,2.0,3.0,3.0...|\n",
      "| 28|  4|      2|     8|       7|     0|        5|       0|           0|  0.0|[28.0,4.0,2.0,8.0...|\n",
      "| 30|  9|      2|     8|       0|     1|        5|       0|           0|  0.0|[30.0,9.0,2.0,8.0...|\n",
      "| 24| 12|      3|     4|       5|     1|        6|       1|           0|  0.0|[24.0,12.0,3.0,4....|\n",
      "| 27|  5|      2|     8|       0|     1|        4|       0|           0|  0.0|[27.0,5.0,2.0,8.0...|\n",
      "| 28|  1|      3|     7|       4|     0|        5|       0|           0|  0.0|[28.0,1.0,3.0,7.0...|\n",
      "| 36|  9|      2|     6|      30|     0|        5|       0|           0|  0.0|[36.0,9.0,2.0,6.0...|\n",
      "| 24|  9|      2|     8|       0|     0|        5|       0|           0|  0.0|[24.0,9.0,2.0,8.0...|\n",
      "| 31| 11|      1|     7|       0|     0|        4|       0|           0|  0.0|[31.0,11.0,1.0,7....|\n",
      "| 32|  6|      2|     8|       0|     0|        6|       0|           0|  0.0|[32.0,6.0,2.0,8.0...|\n",
      "| 33|  6|      3|     8|      30|     0|        6|       0|           0|  0.0|[33.0,6.0,3.0,8.0...|\n",
      "| 21| 10|      1|     6|       0|     0|        5|       1|           0|  0.0|[21.0,10.0,1.0,6....|\n",
      "| 36|  7|      5|     7|       6|     1|        6|       1|           0|  0.0|[36.0,7.0,5.0,7.0...|\n",
      "| 36| 10|      2|     7|       0|     1|        6|       1|           0|  0.0|[36.0,10.0,2.0,7....|\n",
      "| 34| 13|      1|     7|       0|     1|        4|       1|           0|  0.0|[34.0,13.0,1.0,7....|\n",
      "| 27| 10|      3|     8|       0|     0|        6|       1|           0|  0.0|[27.0,10.0,3.0,8....|\n",
      "+---+---+-------+------+--------+------+---------+--------+------------+-----+--------------------+\n",
      "only showing top 20 rows\n",
      "\n"
     ]
    }
   ],
   "source": [
    "df.show()"
   ]
  },
  {
   "cell_type": "code",
   "execution_count": 45,
   "id": "3e88e81a",
   "metadata": {},
   "outputs": [],
   "source": [
    "dt = DecisionTreeClassifier()\\\n",
    "    .setMaxDepth(dt_params['maxDepth'])\\\n",
    "    .setMaxBins(dt_params['maxBins'])\\\n",
    "    .setImpurity(dt_params['impurity'])\n",
    "\n",
    "lr = LogisticRegression()\\\n",
    "    .setMaxIter(lr_params['maxIter'])\\\n",
    "    .setFitIntercept(lr_params['fitIntercept'])\\\n",
    "    .setRegParam(lr_params['regParam'])\n",
    "    \n",
    "dt = dt.fit(df)\n",
    "lr = lr.fit(df)"
   ]
  },
  {
   "cell_type": "markdown",
   "id": "64d24c84",
   "metadata": {},
   "source": [
    "## :("
   ]
  },
  {
   "cell_type": "code",
   "execution_count": null,
   "id": "6b9f3405",
   "metadata": {},
   "outputs": [],
   "source": [
    "# stream = spark \\\n",
    "#   .readStream \\\n",
    "#   .format(\"kafka\") \\\n",
    "#   .option(\"kafka.bootstrap.servers\", 'localhost:9092') \\\n",
    "#   .option(\"subscribe\", 'health_data') \\\n",
    "#   .load()\n",
    "\n",
    "# stream.selectExpr(\"CAST(key AS STRING)\", \"CAST(value AS STRING)\")\n",
    "\n",
    "\n"
   ]
  },
  {
   "cell_type": "code",
   "execution_count": 119,
   "id": "f6767e9c",
   "metadata": {},
   "outputs": [
    {
     "name": "stderr",
     "output_type": "stream",
     "text": [
      "WARNING:kafka.coordinator.consumer:group_id is None: disabling auto-commit.\n"
     ]
    },
    {
     "name": "stdout",
     "output_type": "stream",
     "text": [
      "Row(HighBP=0, HighChol=0, CholCheck=1, BMI=24, Smoker=0, Stroke=0, HeartDiseaseorAttack=0, PhysActivity=0, Fruits=0, Veggies=1, HvyAlcoholConsump=0, AnyHealthcare=1, NoDocbcCost=0, GenHlth=2, MentHlth=0, PhysHlth=0, DiffWalk=0, Sex=1, Age=8, Education=4, Income=3)\n",
      "{'HighBP': 0, 'HighChol': 0, 'CholCheck': 1, 'BMI': 24, 'Smoker': 0, 'Stroke': 0, 'HeartDiseaseorAttack': 0, 'PhysActivity': 0, 'Fruits': 0, 'Veggies': 1, 'HvyAlcoholConsump': 0, 'AnyHealthcare': 1, 'NoDocbcCost': 0, 'GenHlth': 2, 'MentHlth': 0, 'PhysHlth': 0, 'DiffWalk': 0, 'Sex': 1, 'Age': 8, 'Education': 4, 'Income': 3, 'Diabetes_012': 0}\n",
      "Row(HighBP=0, HighChol=1, CholCheck=1, BMI=24, Smoker=1, Stroke=0, HeartDiseaseorAttack=0, PhysActivity=1, Fruits=1, Veggies=1, HvyAlcoholConsump=0, AnyHealthcare=1, NoDocbcCost=0, GenHlth=3, MentHlth=10, PhysHlth=0, DiffWalk=0, Sex=1, Age=8, Education=6, Income=4)\n",
      "{'HighBP': 0, 'HighChol': 1, 'CholCheck': 1, 'BMI': 24, 'Smoker': 1, 'Stroke': 0, 'HeartDiseaseorAttack': 0, 'PhysActivity': 1, 'Fruits': 1, 'Veggies': 1, 'HvyAlcoholConsump': 0, 'AnyHealthcare': 1, 'NoDocbcCost': 0, 'GenHlth': 3, 'MentHlth': 10, 'PhysHlth': 0, 'DiffWalk': 0, 'Sex': 1, 'Age': 8, 'Education': 6, 'Income': 4, 'Diabetes_012': 0}\n",
      "Row(HighBP=0, HighChol=0, CholCheck=1, BMI=26, Smoker=0, Stroke=0, HeartDiseaseorAttack=0, PhysActivity=1, Fruits=1, Veggies=1, HvyAlcoholConsump=0, AnyHealthcare=1, NoDocbcCost=0, GenHlth=2, MentHlth=0, PhysHlth=0, DiffWalk=0, Sex=1, Age=3, Education=6, Income=8)\n",
      "{'HighBP': 0, 'HighChol': 0, 'CholCheck': 1, 'BMI': 26, 'Smoker': 0, 'Stroke': 0, 'HeartDiseaseorAttack': 0, 'PhysActivity': 1, 'Fruits': 1, 'Veggies': 1, 'HvyAlcoholConsump': 0, 'AnyHealthcare': 1, 'NoDocbcCost': 0, 'GenHlth': 2, 'MentHlth': 0, 'PhysHlth': 0, 'DiffWalk': 0, 'Sex': 1, 'Age': 3, 'Education': 6, 'Income': 8, 'Diabetes_012': 0}\n",
      "Row(HighBP=0, HighChol=0, CholCheck=0, BMI=21, Smoker=1, Stroke=0, HeartDiseaseorAttack=0, PhysActivity=1, Fruits=1, Veggies=1, HvyAlcoholConsump=1, AnyHealthcare=1, NoDocbcCost=0, GenHlth=3, MentHlth=4, PhysHlth=0, DiffWalk=1, Sex=0, Age=13, Education=6, Income=5)\n",
      "{'HighBP': 0, 'HighChol': 0, 'CholCheck': 0, 'BMI': 21, 'Smoker': 1, 'Stroke': 0, 'HeartDiseaseorAttack': 0, 'PhysActivity': 1, 'Fruits': 1, 'Veggies': 1, 'HvyAlcoholConsump': 1, 'AnyHealthcare': 1, 'NoDocbcCost': 0, 'GenHlth': 3, 'MentHlth': 4, 'PhysHlth': 0, 'DiffWalk': 1, 'Sex': 0, 'Age': 13, 'Education': 6, 'Income': 5, 'Diabetes_012': 0}\n",
      "Row(HighBP=1, HighChol=0, CholCheck=1, BMI=34, Smoker=0, Stroke=0, HeartDiseaseorAttack=0, PhysActivity=0, Fruits=1, Veggies=1, HvyAlcoholConsump=0, AnyHealthcare=1, NoDocbcCost=1, GenHlth=3, MentHlth=10, PhysHlth=10, DiffWalk=0, Sex=0, Age=6, Education=3, Income=3)\n",
      "{'HighBP': 1, 'HighChol': 0, 'CholCheck': 1, 'BMI': 34, 'Smoker': 0, 'Stroke': 0, 'HeartDiseaseorAttack': 0, 'PhysActivity': 0, 'Fruits': 1, 'Veggies': 1, 'HvyAlcoholConsump': 0, 'AnyHealthcare': 1, 'NoDocbcCost': 1, 'GenHlth': 3, 'MentHlth': 10, 'PhysHlth': 10, 'DiffWalk': 0, 'Sex': 0, 'Age': 6, 'Education': 3, 'Income': 3, 'Diabetes_012': 0}\n",
      "Row(HighBP=0, HighChol=0, CholCheck=1, BMI=42, Smoker=0, Stroke=0, HeartDiseaseorAttack=0, PhysActivity=1, Fruits=1, Veggies=1, HvyAlcoholConsump=1, AnyHealthcare=1, NoDocbcCost=0, GenHlth=3, MentHlth=0, PhysHlth=4, DiffWalk=0, Sex=0, Age=6, Education=6, Income=8)\n",
      "{'HighBP': 0, 'HighChol': 0, 'CholCheck': 1, 'BMI': 42, 'Smoker': 0, 'Stroke': 0, 'HeartDiseaseorAttack': 0, 'PhysActivity': 1, 'Fruits': 1, 'Veggies': 1, 'HvyAlcoholConsump': 1, 'AnyHealthcare': 1, 'NoDocbcCost': 0, 'GenHlth': 3, 'MentHlth': 0, 'PhysHlth': 4, 'DiffWalk': 0, 'Sex': 0, 'Age': 6, 'Education': 6, 'Income': 8, 'Diabetes_012': 0}\n",
      "Row(HighBP=1, HighChol=1, CholCheck=1, BMI=25, Smoker=0, Stroke=0, HeartDiseaseorAttack=1, PhysActivity=1, Fruits=1, Veggies=1, HvyAlcoholConsump=0, AnyHealthcare=1, NoDocbcCost=0, GenHlth=3, MentHlth=0, PhysHlth=0, DiffWalk=0, Sex=0, Age=13, Education=5, Income=4)\n",
      "{'HighBP': 1, 'HighChol': 1, 'CholCheck': 1, 'BMI': 25, 'Smoker': 0, 'Stroke': 0, 'HeartDiseaseorAttack': 1, 'PhysActivity': 1, 'Fruits': 1, 'Veggies': 1, 'HvyAlcoholConsump': 0, 'AnyHealthcare': 1, 'NoDocbcCost': 0, 'GenHlth': 3, 'MentHlth': 0, 'PhysHlth': 0, 'DiffWalk': 0, 'Sex': 0, 'Age': 13, 'Education': 5, 'Income': 4, 'Diabetes_012': 0}\n",
      "Row(HighBP=1, HighChol=0, CholCheck=1, BMI=23, Smoker=1, Stroke=0, HeartDiseaseorAttack=1, PhysActivity=1, Fruits=1, Veggies=1, HvyAlcoholConsump=0, AnyHealthcare=1, NoDocbcCost=0, GenHlth=3, MentHlth=0, PhysHlth=0, DiffWalk=0, Sex=0, Age=13, Education=5, Income=2)\n",
      "{'HighBP': 1, 'HighChol': 0, 'CholCheck': 1, 'BMI': 23, 'Smoker': 1, 'Stroke': 0, 'HeartDiseaseorAttack': 1, 'PhysActivity': 1, 'Fruits': 1, 'Veggies': 1, 'HvyAlcoholConsump': 0, 'AnyHealthcare': 1, 'NoDocbcCost': 0, 'GenHlth': 3, 'MentHlth': 0, 'PhysHlth': 0, 'DiffWalk': 0, 'Sex': 0, 'Age': 13, 'Education': 5, 'Income': 2, 'Diabetes_012': 0}\n",
      "Row(HighBP=0, HighChol=0, CholCheck=1, BMI=24, Smoker=0, Stroke=0, HeartDiseaseorAttack=0, PhysActivity=0, Fruits=0, Veggies=0, HvyAlcoholConsump=0, AnyHealthcare=1, NoDocbcCost=0, GenHlth=2, MentHlth=0, PhysHlth=2, DiffWalk=0, Sex=0, Age=4, Education=6, Income=6)\n",
      "{'HighBP': 0, 'HighChol': 0, 'CholCheck': 1, 'BMI': 24, 'Smoker': 0, 'Stroke': 0, 'HeartDiseaseorAttack': 0, 'PhysActivity': 0, 'Fruits': 0, 'Veggies': 0, 'HvyAlcoholConsump': 0, 'AnyHealthcare': 1, 'NoDocbcCost': 0, 'GenHlth': 2, 'MentHlth': 0, 'PhysHlth': 2, 'DiffWalk': 0, 'Sex': 0, 'Age': 4, 'Education': 6, 'Income': 6, 'Diabetes_012': 0}\n",
      "Row(HighBP=0, HighChol=1, CholCheck=0, BMI=29, Smoker=1, Stroke=0, HeartDiseaseorAttack=0, PhysActivity=1, Fruits=0, Veggies=1, HvyAlcoholConsump=0, AnyHealthcare=1, NoDocbcCost=0, GenHlth=2, MentHlth=0, PhysHlth=0, DiffWalk=0, Sex=1, Age=9, Education=5, Income=5)\n",
      "{'HighBP': 0, 'HighChol': 1, 'CholCheck': 0, 'BMI': 29, 'Smoker': 1, 'Stroke': 0, 'HeartDiseaseorAttack': 0, 'PhysActivity': 1, 'Fruits': 0, 'Veggies': 1, 'HvyAlcoholConsump': 0, 'AnyHealthcare': 1, 'NoDocbcCost': 0, 'GenHlth': 2, 'MentHlth': 0, 'PhysHlth': 0, 'DiffWalk': 0, 'Sex': 1, 'Age': 9, 'Education': 5, 'Income': 5, 'Diabetes_012': 0}\n",
      "Row(HighBP=0, HighChol=0, CholCheck=1, BMI=22, Smoker=1, Stroke=0, HeartDiseaseorAttack=0, PhysActivity=1, Fruits=1, Veggies=1, HvyAlcoholConsump=0, AnyHealthcare=1, NoDocbcCost=0, GenHlth=1, MentHlth=0, PhysHlth=0, DiffWalk=0, Sex=1, Age=12, Education=4, Income=7)\n",
      "{'HighBP': 0, 'HighChol': 0, 'CholCheck': 1, 'BMI': 22, 'Smoker': 1, 'Stroke': 0, 'HeartDiseaseorAttack': 0, 'PhysActivity': 1, 'Fruits': 1, 'Veggies': 1, 'HvyAlcoholConsump': 0, 'AnyHealthcare': 1, 'NoDocbcCost': 0, 'GenHlth': 1, 'MentHlth': 0, 'PhysHlth': 0, 'DiffWalk': 0, 'Sex': 1, 'Age': 12, 'Education': 4, 'Income': 7, 'Diabetes_012': 0}\n",
      "Row(HighBP=0, HighChol=1, CholCheck=1, BMI=20, Smoker=0, Stroke=0, HeartDiseaseorAttack=0, PhysActivity=1, Fruits=1, Veggies=1, HvyAlcoholConsump=0, AnyHealthcare=1, NoDocbcCost=0, GenHlth=1, MentHlth=0, PhysHlth=0, DiffWalk=0, Sex=0, Age=9, Education=6, Income=8)\n",
      "{'HighBP': 0, 'HighChol': 1, 'CholCheck': 1, 'BMI': 20, 'Smoker': 0, 'Stroke': 0, 'HeartDiseaseorAttack': 0, 'PhysActivity': 1, 'Fruits': 1, 'Veggies': 1, 'HvyAlcoholConsump': 0, 'AnyHealthcare': 1, 'NoDocbcCost': 0, 'GenHlth': 1, 'MentHlth': 0, 'PhysHlth': 0, 'DiffWalk': 0, 'Sex': 0, 'Age': 9, 'Education': 6, 'Income': 8, 'Diabetes_012': 0}\n",
      "Row(HighBP=1, HighChol=1, CholCheck=1, BMI=23, Smoker=0, Stroke=0, HeartDiseaseorAttack=0, PhysActivity=1, Fruits=1, Veggies=1, HvyAlcoholConsump=0, AnyHealthcare=1, NoDocbcCost=0, GenHlth=2, MentHlth=5, PhysHlth=0, DiffWalk=0, Sex=1, Age=10, Education=6, Income=8)\n",
      "{'HighBP': 1, 'HighChol': 1, 'CholCheck': 1, 'BMI': 23, 'Smoker': 0, 'Stroke': 0, 'HeartDiseaseorAttack': 0, 'PhysActivity': 1, 'Fruits': 1, 'Veggies': 1, 'HvyAlcoholConsump': 0, 'AnyHealthcare': 1, 'NoDocbcCost': 0, 'GenHlth': 2, 'MentHlth': 5, 'PhysHlth': 0, 'DiffWalk': 0, 'Sex': 1, 'Age': 10, 'Education': 6, 'Income': 8, 'Diabetes_012': 0}\n",
      "Row(HighBP=0, HighChol=0, CholCheck=1, BMI=24, Smoker=1, Stroke=0, HeartDiseaseorAttack=0, PhysActivity=1, Fruits=1, Veggies=1, HvyAlcoholConsump=0, AnyHealthcare=1, NoDocbcCost=0, GenHlth=5, MentHlth=30, PhysHlth=30, DiffWalk=1, Sex=1, Age=5, Education=4, Income=1)\n"
     ]
    },
    {
     "name": "stdout",
     "output_type": "stream",
     "text": [
      "{'HighBP': 0, 'HighChol': 0, 'CholCheck': 1, 'BMI': 24, 'Smoker': 1, 'Stroke': 0, 'HeartDiseaseorAttack': 0, 'PhysActivity': 1, 'Fruits': 1, 'Veggies': 1, 'HvyAlcoholConsump': 0, 'AnyHealthcare': 1, 'NoDocbcCost': 0, 'GenHlth': 5, 'MentHlth': 30, 'PhysHlth': 30, 'DiffWalk': 1, 'Sex': 1, 'Age': 5, 'Education': 4, 'Income': 1, 'Diabetes_012': 0}\n",
      "Row(HighBP=1, HighChol=0, CholCheck=1, BMI=23, Smoker=0, Stroke=0, HeartDiseaseorAttack=0, PhysActivity=0, Fruits=1, Veggies=1, HvyAlcoholConsump=0, AnyHealthcare=1, NoDocbcCost=0, GenHlth=2, MentHlth=0, PhysHlth=0, DiffWalk=0, Sex=1, Age=13, Education=6, Income=6)\n",
      "{'HighBP': 1, 'HighChol': 0, 'CholCheck': 1, 'BMI': 23, 'Smoker': 0, 'Stroke': 0, 'HeartDiseaseorAttack': 0, 'PhysActivity': 0, 'Fruits': 1, 'Veggies': 1, 'HvyAlcoholConsump': 0, 'AnyHealthcare': 1, 'NoDocbcCost': 0, 'GenHlth': 2, 'MentHlth': 0, 'PhysHlth': 0, 'DiffWalk': 0, 'Sex': 1, 'Age': 13, 'Education': 6, 'Income': 6, 'Diabetes_012': 0}\n",
      "Row(HighBP=0, HighChol=0, CholCheck=1, BMI=26, Smoker=0, Stroke=0, HeartDiseaseorAttack=0, PhysActivity=1, Fruits=1, Veggies=1, HvyAlcoholConsump=1, AnyHealthcare=1, NoDocbcCost=0, GenHlth=3, MentHlth=2, PhysHlth=0, DiffWalk=0, Sex=0, Age=2, Education=5, Income=8)\n",
      "{'HighBP': 0, 'HighChol': 0, 'CholCheck': 1, 'BMI': 26, 'Smoker': 0, 'Stroke': 0, 'HeartDiseaseorAttack': 0, 'PhysActivity': 1, 'Fruits': 1, 'Veggies': 1, 'HvyAlcoholConsump': 1, 'AnyHealthcare': 1, 'NoDocbcCost': 0, 'GenHlth': 3, 'MentHlth': 2, 'PhysHlth': 0, 'DiffWalk': 0, 'Sex': 0, 'Age': 2, 'Education': 5, 'Income': 8, 'Diabetes_012': 0}\n",
      "Row(HighBP=0, HighChol=1, CholCheck=1, BMI=22, Smoker=0, Stroke=0, HeartDiseaseorAttack=0, PhysActivity=0, Fruits=1, Veggies=1, HvyAlcoholConsump=0, AnyHealthcare=0, NoDocbcCost=0, GenHlth=3, MentHlth=0, PhysHlth=2, DiffWalk=0, Sex=1, Age=9, Education=6, Income=7)\n",
      "{'HighBP': 0, 'HighChol': 1, 'CholCheck': 1, 'BMI': 22, 'Smoker': 0, 'Stroke': 0, 'HeartDiseaseorAttack': 0, 'PhysActivity': 0, 'Fruits': 1, 'Veggies': 1, 'HvyAlcoholConsump': 0, 'AnyHealthcare': 0, 'NoDocbcCost': 0, 'GenHlth': 3, 'MentHlth': 0, 'PhysHlth': 2, 'DiffWalk': 0, 'Sex': 1, 'Age': 9, 'Education': 6, 'Income': 7, 'Diabetes_012': 0}\n",
      "Row(HighBP=1, HighChol=0, CholCheck=0, BMI=28, Smoker=1, Stroke=0, HeartDiseaseorAttack=0, PhysActivity=1, Fruits=0, Veggies=0, HvyAlcoholConsump=0, AnyHealthcare=0, NoDocbcCost=0, GenHlth=3, MentHlth=10, PhysHlth=0, DiffWalk=0, Sex=0, Age=7, Education=3, Income=1)\n",
      "{'HighBP': 1, 'HighChol': 0, 'CholCheck': 0, 'BMI': 28, 'Smoker': 1, 'Stroke': 0, 'HeartDiseaseorAttack': 0, 'PhysActivity': 1, 'Fruits': 0, 'Veggies': 0, 'HvyAlcoholConsump': 0, 'AnyHealthcare': 0, 'NoDocbcCost': 0, 'GenHlth': 3, 'MentHlth': 10, 'PhysHlth': 0, 'DiffWalk': 0, 'Sex': 0, 'Age': 7, 'Education': 3, 'Income': 1, 'Diabetes_012': 0}\n",
      "Row(HighBP=1, HighChol=1, CholCheck=1, BMI=32, Smoker=0, Stroke=0, HeartDiseaseorAttack=0, PhysActivity=0, Fruits=1, Veggies=0, HvyAlcoholConsump=0, AnyHealthcare=1, NoDocbcCost=0, GenHlth=2, MentHlth=0, PhysHlth=0, DiffWalk=0, Sex=1, Age=9, Education=6, Income=6)\n",
      "{'HighBP': 1, 'HighChol': 1, 'CholCheck': 1, 'BMI': 32, 'Smoker': 0, 'Stroke': 0, 'HeartDiseaseorAttack': 0, 'PhysActivity': 0, 'Fruits': 1, 'Veggies': 0, 'HvyAlcoholConsump': 0, 'AnyHealthcare': 1, 'NoDocbcCost': 0, 'GenHlth': 2, 'MentHlth': 0, 'PhysHlth': 0, 'DiffWalk': 0, 'Sex': 1, 'Age': 9, 'Education': 6, 'Income': 6, 'Diabetes_012': 0}\n",
      "Row(HighBP=1, HighChol=0, CholCheck=1, BMI=26, Smoker=0, Stroke=0, HeartDiseaseorAttack=0, PhysActivity=0, Fruits=1, Veggies=0, HvyAlcoholConsump=0, AnyHealthcare=1, NoDocbcCost=0, GenHlth=4, MentHlth=0, PhysHlth=0, DiffWalk=1, Sex=0, Age=13, Education=4, Income=7)\n",
      "{'HighBP': 1, 'HighChol': 0, 'CholCheck': 1, 'BMI': 26, 'Smoker': 0, 'Stroke': 0, 'HeartDiseaseorAttack': 0, 'PhysActivity': 0, 'Fruits': 1, 'Veggies': 0, 'HvyAlcoholConsump': 0, 'AnyHealthcare': 1, 'NoDocbcCost': 0, 'GenHlth': 4, 'MentHlth': 0, 'PhysHlth': 0, 'DiffWalk': 1, 'Sex': 0, 'Age': 13, 'Education': 4, 'Income': 7, 'Diabetes_012': 0}\n",
      "Row(HighBP=0, HighChol=0, CholCheck=1, BMI=36, Smoker=0, Stroke=0, HeartDiseaseorAttack=0, PhysActivity=0, Fruits=0, Veggies=1, HvyAlcoholConsump=0, AnyHealthcare=1, NoDocbcCost=0, GenHlth=4, MentHlth=25, PhysHlth=14, DiffWalk=0, Sex=0, Age=2, Education=6, Income=3)\n",
      "{'HighBP': 0, 'HighChol': 0, 'CholCheck': 1, 'BMI': 36, 'Smoker': 0, 'Stroke': 0, 'HeartDiseaseorAttack': 0, 'PhysActivity': 0, 'Fruits': 0, 'Veggies': 1, 'HvyAlcoholConsump': 0, 'AnyHealthcare': 1, 'NoDocbcCost': 0, 'GenHlth': 4, 'MentHlth': 25, 'PhysHlth': 14, 'DiffWalk': 0, 'Sex': 0, 'Age': 2, 'Education': 6, 'Income': 3, 'Diabetes_012': 0}\n",
      "Row(HighBP=1, HighChol=1, CholCheck=1, BMI=26, Smoker=1, Stroke=0, HeartDiseaseorAttack=0, PhysActivity=1, Fruits=0, Veggies=1, HvyAlcoholConsump=0, AnyHealthcare=1, NoDocbcCost=0, GenHlth=3, MentHlth=0, PhysHlth=7, DiffWalk=0, Sex=1, Age=10, Education=6, Income=6)\n",
      "{'HighBP': 1, 'HighChol': 1, 'CholCheck': 1, 'BMI': 26, 'Smoker': 1, 'Stroke': 0, 'HeartDiseaseorAttack': 0, 'PhysActivity': 1, 'Fruits': 0, 'Veggies': 1, 'HvyAlcoholConsump': 0, 'AnyHealthcare': 1, 'NoDocbcCost': 0, 'GenHlth': 3, 'MentHlth': 0, 'PhysHlth': 7, 'DiffWalk': 0, 'Sex': 1, 'Age': 10, 'Education': 6, 'Income': 6, 'Diabetes_012': 0}\n",
      "Row(HighBP=1, HighChol=0, CholCheck=1, BMI=26, Smoker=0, Stroke=0, HeartDiseaseorAttack=0, PhysActivity=1, Fruits=1, Veggies=1, HvyAlcoholConsump=0, AnyHealthcare=1, NoDocbcCost=0, GenHlth=1, MentHlth=0, PhysHlth=0, DiffWalk=0, Sex=0, Age=11, Education=5, Income=5)\n",
      "{'HighBP': 1, 'HighChol': 0, 'CholCheck': 1, 'BMI': 26, 'Smoker': 0, 'Stroke': 0, 'HeartDiseaseorAttack': 0, 'PhysActivity': 1, 'Fruits': 1, 'Veggies': 1, 'HvyAlcoholConsump': 0, 'AnyHealthcare': 1, 'NoDocbcCost': 0, 'GenHlth': 1, 'MentHlth': 0, 'PhysHlth': 0, 'DiffWalk': 0, 'Sex': 0, 'Age': 11, 'Education': 5, 'Income': 5, 'Diabetes_012': 0}\n",
      "Row(HighBP=1, HighChol=1, CholCheck=1, BMI=25, Smoker=0, Stroke=0, HeartDiseaseorAttack=0, PhysActivity=1, Fruits=0, Veggies=1, HvyAlcoholConsump=0, AnyHealthcare=1, NoDocbcCost=0, GenHlth=1, MentHlth=15, PhysHlth=0, DiffWalk=0, Sex=1, Age=5, Education=4, Income=8)\n",
      "{'HighBP': 1, 'HighChol': 1, 'CholCheck': 1, 'BMI': 25, 'Smoker': 0, 'Stroke': 0, 'HeartDiseaseorAttack': 0, 'PhysActivity': 1, 'Fruits': 0, 'Veggies': 1, 'HvyAlcoholConsump': 0, 'AnyHealthcare': 1, 'NoDocbcCost': 0, 'GenHlth': 1, 'MentHlth': 15, 'PhysHlth': 0, 'DiffWalk': 0, 'Sex': 1, 'Age': 5, 'Education': 4, 'Income': 8, 'Diabetes_012': 0}\n",
      "Row(HighBP=1, HighChol=1, CholCheck=1, BMI=35, Smoker=0, Stroke=0, HeartDiseaseorAttack=0, PhysActivity=0, Fruits=1, Veggies=1, HvyAlcoholConsump=0, AnyHealthcare=1, NoDocbcCost=0, GenHlth=3, MentHlth=0, PhysHlth=30, DiffWalk=1, Sex=0, Age=12, Education=5, Income=3)\n",
      "{'HighBP': 1, 'HighChol': 1, 'CholCheck': 1, 'BMI': 35, 'Smoker': 0, 'Stroke': 0, 'HeartDiseaseorAttack': 0, 'PhysActivity': 0, 'Fruits': 1, 'Veggies': 1, 'HvyAlcoholConsump': 0, 'AnyHealthcare': 1, 'NoDocbcCost': 0, 'GenHlth': 3, 'MentHlth': 0, 'PhysHlth': 30, 'DiffWalk': 1, 'Sex': 0, 'Age': 12, 'Education': 5, 'Income': 3, 'Diabetes_012': 0}\n",
      "Row(HighBP=0, HighChol=0, CholCheck=1, BMI=27, Smoker=0, Stroke=0, HeartDiseaseorAttack=0, PhysActivity=1, Fruits=0, Veggies=0, HvyAlcoholConsump=0, AnyHealthcare=1, NoDocbcCost=0, GenHlth=2, MentHlth=0, PhysHlth=0, DiffWalk=0, Sex=0, Age=2, Education=6, Income=6)\n",
      "{'HighBP': 0, 'HighChol': 0, 'CholCheck': 1, 'BMI': 27, 'Smoker': 0, 'Stroke': 0, 'HeartDiseaseorAttack': 0, 'PhysActivity': 1, 'Fruits': 0, 'Veggies': 0, 'HvyAlcoholConsump': 0, 'AnyHealthcare': 1, 'NoDocbcCost': 0, 'GenHlth': 2, 'MentHlth': 0, 'PhysHlth': 0, 'DiffWalk': 0, 'Sex': 0, 'Age': 2, 'Education': 6, 'Income': 6, 'Diabetes_012': 0}\n",
      "Row(HighBP=1, HighChol=1, CholCheck=1, BMI=25, Smoker=0, Stroke=0, HeartDiseaseorAttack=0, PhysActivity=1, Fruits=0, Veggies=0, HvyAlcoholConsump=0, AnyHealthcare=1, NoDocbcCost=0, GenHlth=3, MentHlth=5, PhysHlth=10, DiffWalk=0, Sex=1, Age=8, Education=6, Income=4)\n",
      "{'HighBP': 1, 'HighChol': 1, 'CholCheck': 1, 'BMI': 25, 'Smoker': 0, 'Stroke': 0, 'HeartDiseaseorAttack': 0, 'PhysActivity': 1, 'Fruits': 0, 'Veggies': 0, 'HvyAlcoholConsump': 0, 'AnyHealthcare': 1, 'NoDocbcCost': 0, 'GenHlth': 3, 'MentHlth': 5, 'PhysHlth': 10, 'DiffWalk': 0, 'Sex': 1, 'Age': 8, 'Education': 6, 'Income': 4, 'Diabetes_012': 0}\n"
     ]
    },
    {
     "name": "stdout",
     "output_type": "stream",
     "text": [
      "Row(HighBP=0, HighChol=0, CholCheck=0, BMI=31, Smoker=0, Stroke=0, HeartDiseaseorAttack=0, PhysActivity=1, Fruits=0, Veggies=0, HvyAlcoholConsump=0, AnyHealthcare=1, NoDocbcCost=0, GenHlth=2, MentHlth=0, PhysHlth=0, DiffWalk=0, Sex=1, Age=5, Education=6, Income=8)\n",
      "{'HighBP': 0, 'HighChol': 0, 'CholCheck': 0, 'BMI': 31, 'Smoker': 0, 'Stroke': 0, 'HeartDiseaseorAttack': 0, 'PhysActivity': 1, 'Fruits': 0, 'Veggies': 0, 'HvyAlcoholConsump': 0, 'AnyHealthcare': 1, 'NoDocbcCost': 0, 'GenHlth': 2, 'MentHlth': 0, 'PhysHlth': 0, 'DiffWalk': 0, 'Sex': 1, 'Age': 5, 'Education': 6, 'Income': 8, 'Diabetes_012': 0}\n",
      "Row(HighBP=0, HighChol=0, CholCheck=1, BMI=42, Smoker=0, Stroke=0, HeartDiseaseorAttack=0, PhysActivity=1, Fruits=1, Veggies=0, HvyAlcoholConsump=0, AnyHealthcare=0, NoDocbcCost=1, GenHlth=3, MentHlth=1, PhysHlth=30, DiffWalk=1, Sex=1, Age=5, Education=5, Income=4)\n",
      "{'HighBP': 0, 'HighChol': 0, 'CholCheck': 1, 'BMI': 42, 'Smoker': 0, 'Stroke': 0, 'HeartDiseaseorAttack': 0, 'PhysActivity': 1, 'Fruits': 1, 'Veggies': 0, 'HvyAlcoholConsump': 0, 'AnyHealthcare': 0, 'NoDocbcCost': 1, 'GenHlth': 3, 'MentHlth': 1, 'PhysHlth': 30, 'DiffWalk': 1, 'Sex': 1, 'Age': 5, 'Education': 5, 'Income': 4, 'Diabetes_012': 0}\n",
      "Row(HighBP=0, HighChol=0, CholCheck=1, BMI=21, Smoker=0, Stroke=0, HeartDiseaseorAttack=0, PhysActivity=1, Fruits=1, Veggies=1, HvyAlcoholConsump=0, AnyHealthcare=1, NoDocbcCost=0, GenHlth=2, MentHlth=0, PhysHlth=0, DiffWalk=0, Sex=0, Age=3, Education=6, Income=8)\n",
      "{'HighBP': 0, 'HighChol': 0, 'CholCheck': 1, 'BMI': 21, 'Smoker': 0, 'Stroke': 0, 'HeartDiseaseorAttack': 0, 'PhysActivity': 1, 'Fruits': 1, 'Veggies': 1, 'HvyAlcoholConsump': 0, 'AnyHealthcare': 1, 'NoDocbcCost': 0, 'GenHlth': 2, 'MentHlth': 0, 'PhysHlth': 0, 'DiffWalk': 0, 'Sex': 0, 'Age': 3, 'Education': 6, 'Income': 8, 'Diabetes_012': 0}\n",
      "Row(HighBP=0, HighChol=0, CholCheck=1, BMI=27, Smoker=0, Stroke=0, HeartDiseaseorAttack=0, PhysActivity=1, Fruits=1, Veggies=1, HvyAlcoholConsump=0, AnyHealthcare=1, NoDocbcCost=0, GenHlth=2, MentHlth=0, PhysHlth=0, DiffWalk=0, Sex=1, Age=5, Education=6, Income=8)\n",
      "{'HighBP': 0, 'HighChol': 0, 'CholCheck': 1, 'BMI': 27, 'Smoker': 0, 'Stroke': 0, 'HeartDiseaseorAttack': 0, 'PhysActivity': 1, 'Fruits': 1, 'Veggies': 1, 'HvyAlcoholConsump': 0, 'AnyHealthcare': 1, 'NoDocbcCost': 0, 'GenHlth': 2, 'MentHlth': 0, 'PhysHlth': 0, 'DiffWalk': 0, 'Sex': 1, 'Age': 5, 'Education': 6, 'Income': 8, 'Diabetes_012': 0}\n",
      "Row(HighBP=0, HighChol=1, CholCheck=1, BMI=27, Smoker=1, Stroke=0, HeartDiseaseorAttack=0, PhysActivity=1, Fruits=0, Veggies=1, HvyAlcoholConsump=0, AnyHealthcare=1, NoDocbcCost=0, GenHlth=4, MentHlth=0, PhysHlth=0, DiffWalk=0, Sex=0, Age=7, Education=4, Income=3)\n"
     ]
    },
    {
     "name": "stderr",
     "output_type": "stream",
     "text": [
      "ERROR:root:KeyboardInterrupt while sending command.\n",
      "Traceback (most recent call last):\n",
      "  File \"E:\\Anaconda\\lib\\site-packages\\py4j\\java_gateway.py\", line 1038, in send_command\n",
      "    response = connection.send_command(command)\n",
      "  File \"E:\\Anaconda\\lib\\site-packages\\py4j\\clientserver.py\", line 511, in send_command\n",
      "    answer = smart_decode(self.stream.readline()[:-1])\n",
      "  File \"E:\\Anaconda\\lib\\socket.py\", line 704, in readinto\n",
      "    return self._sock.recv_into(b)\n",
      "KeyboardInterrupt\n"
     ]
    },
    {
     "ename": "KeyboardInterrupt",
     "evalue": "",
     "output_type": "error",
     "traceback": [
      "\u001b[1;31m---------------------------------------------------------------------------\u001b[0m",
      "\u001b[1;31mKeyboardInterrupt\u001b[0m                         Traceback (most recent call last)",
      "Input \u001b[1;32mIn [119]\u001b[0m, in \u001b[0;36m<cell line: 10>\u001b[1;34m()\u001b[0m\n\u001b[0;32m     13\u001b[0m df_row \u001b[38;5;241m=\u001b[39m spark\u001b[38;5;241m.\u001b[39mcreateDataFrame([row])\u001b[38;5;241m.\u001b[39mselect(variables)\n\u001b[0;32m     14\u001b[0m df_row \u001b[38;5;241m=\u001b[39m pipeline\u001b[38;5;241m.\u001b[39mfit(df_row)\u001b[38;5;241m.\u001b[39mtransform(df_row)\n\u001b[1;32m---> 15\u001b[0m predicted_class_row \u001b[38;5;241m=\u001b[39m \u001b[38;5;28mint\u001b[39m(\u001b[43mlr\u001b[49m\u001b[38;5;241;43m.\u001b[39;49m\u001b[43mtransform\u001b[49m\u001b[43m(\u001b[49m\u001b[43mdf_row\u001b[49m\u001b[43m)\u001b[49m\u001b[38;5;241;43m.\u001b[39;49m\u001b[43mselect\u001b[49m\u001b[43m(\u001b[49m\u001b[38;5;124;43m'\u001b[39;49m\u001b[38;5;124;43mprediction\u001b[39;49m\u001b[38;5;124;43m'\u001b[39;49m\u001b[43m)\u001b[49m\u001b[38;5;241;43m.\u001b[39;49m\u001b[43mcollect\u001b[49m\u001b[43m(\u001b[49m\u001b[43m)\u001b[49m[\u001b[38;5;241m0\u001b[39m][\u001b[38;5;124m'\u001b[39m\u001b[38;5;124mprediction\u001b[39m\u001b[38;5;124m'\u001b[39m])\n\u001b[0;32m     16\u001b[0m row_dict \u001b[38;5;241m=\u001b[39m row\u001b[38;5;241m.\u001b[39masDict()\n\u001b[0;32m     17\u001b[0m row_dict[\u001b[38;5;124m'\u001b[39m\u001b[38;5;124mDiabetes_012\u001b[39m\u001b[38;5;124m'\u001b[39m] \u001b[38;5;241m=\u001b[39m predicted_class_row\n",
      "File \u001b[1;32mE:\\Anaconda\\lib\\site-packages\\pyspark\\sql\\dataframe.py:817\u001b[0m, in \u001b[0;36mDataFrame.collect\u001b[1;34m(self)\u001b[0m\n\u001b[0;32m    807\u001b[0m \u001b[38;5;124;03m\"\"\"Returns all the records as a list of :class:`Row`.\u001b[39;00m\n\u001b[0;32m    808\u001b[0m \n\u001b[0;32m    809\u001b[0m \u001b[38;5;124;03m.. versionadded:: 1.3.0\u001b[39;00m\n\u001b[1;32m   (...)\u001b[0m\n\u001b[0;32m    814\u001b[0m \u001b[38;5;124;03m[Row(age=2, name='Alice'), Row(age=5, name='Bob')]\u001b[39;00m\n\u001b[0;32m    815\u001b[0m \u001b[38;5;124;03m\"\"\"\u001b[39;00m\n\u001b[0;32m    816\u001b[0m \u001b[38;5;28;01mwith\u001b[39;00m SCCallSiteSync(\u001b[38;5;28mself\u001b[39m\u001b[38;5;241m.\u001b[39m_sc):\n\u001b[1;32m--> 817\u001b[0m     sock_info \u001b[38;5;241m=\u001b[39m \u001b[38;5;28;43mself\u001b[39;49m\u001b[38;5;241;43m.\u001b[39;49m\u001b[43m_jdf\u001b[49m\u001b[38;5;241;43m.\u001b[39;49m\u001b[43mcollectToPython\u001b[49m\u001b[43m(\u001b[49m\u001b[43m)\u001b[49m\n\u001b[0;32m    818\u001b[0m \u001b[38;5;28;01mreturn\u001b[39;00m \u001b[38;5;28mlist\u001b[39m(_load_from_socket(sock_info, BatchedSerializer(CPickleSerializer())))\n",
      "File \u001b[1;32mE:\\Anaconda\\lib\\site-packages\\py4j\\java_gateway.py:1320\u001b[0m, in \u001b[0;36mJavaMember.__call__\u001b[1;34m(self, *args)\u001b[0m\n\u001b[0;32m   1313\u001b[0m args_command, temp_args \u001b[38;5;241m=\u001b[39m \u001b[38;5;28mself\u001b[39m\u001b[38;5;241m.\u001b[39m_build_args(\u001b[38;5;241m*\u001b[39margs)\n\u001b[0;32m   1315\u001b[0m command \u001b[38;5;241m=\u001b[39m proto\u001b[38;5;241m.\u001b[39mCALL_COMMAND_NAME \u001b[38;5;241m+\u001b[39m\\\n\u001b[0;32m   1316\u001b[0m     \u001b[38;5;28mself\u001b[39m\u001b[38;5;241m.\u001b[39mcommand_header \u001b[38;5;241m+\u001b[39m\\\n\u001b[0;32m   1317\u001b[0m     args_command \u001b[38;5;241m+\u001b[39m\\\n\u001b[0;32m   1318\u001b[0m     proto\u001b[38;5;241m.\u001b[39mEND_COMMAND_PART\n\u001b[1;32m-> 1320\u001b[0m answer \u001b[38;5;241m=\u001b[39m \u001b[38;5;28;43mself\u001b[39;49m\u001b[38;5;241;43m.\u001b[39;49m\u001b[43mgateway_client\u001b[49m\u001b[38;5;241;43m.\u001b[39;49m\u001b[43msend_command\u001b[49m\u001b[43m(\u001b[49m\u001b[43mcommand\u001b[49m\u001b[43m)\u001b[49m\n\u001b[0;32m   1321\u001b[0m return_value \u001b[38;5;241m=\u001b[39m get_return_value(\n\u001b[0;32m   1322\u001b[0m     answer, \u001b[38;5;28mself\u001b[39m\u001b[38;5;241m.\u001b[39mgateway_client, \u001b[38;5;28mself\u001b[39m\u001b[38;5;241m.\u001b[39mtarget_id, \u001b[38;5;28mself\u001b[39m\u001b[38;5;241m.\u001b[39mname)\n\u001b[0;32m   1324\u001b[0m \u001b[38;5;28;01mfor\u001b[39;00m temp_arg \u001b[38;5;129;01min\u001b[39;00m temp_args:\n",
      "File \u001b[1;32mE:\\Anaconda\\lib\\site-packages\\py4j\\java_gateway.py:1038\u001b[0m, in \u001b[0;36mGatewayClient.send_command\u001b[1;34m(self, command, retry, binary)\u001b[0m\n\u001b[0;32m   1036\u001b[0m connection \u001b[38;5;241m=\u001b[39m \u001b[38;5;28mself\u001b[39m\u001b[38;5;241m.\u001b[39m_get_connection()\n\u001b[0;32m   1037\u001b[0m \u001b[38;5;28;01mtry\u001b[39;00m:\n\u001b[1;32m-> 1038\u001b[0m     response \u001b[38;5;241m=\u001b[39m \u001b[43mconnection\u001b[49m\u001b[38;5;241;43m.\u001b[39;49m\u001b[43msend_command\u001b[49m\u001b[43m(\u001b[49m\u001b[43mcommand\u001b[49m\u001b[43m)\u001b[49m\n\u001b[0;32m   1039\u001b[0m     \u001b[38;5;28;01mif\u001b[39;00m binary:\n\u001b[0;32m   1040\u001b[0m         \u001b[38;5;28;01mreturn\u001b[39;00m response, \u001b[38;5;28mself\u001b[39m\u001b[38;5;241m.\u001b[39m_create_connection_guard(connection)\n",
      "File \u001b[1;32mE:\\Anaconda\\lib\\site-packages\\py4j\\clientserver.py:511\u001b[0m, in \u001b[0;36mClientServerConnection.send_command\u001b[1;34m(self, command)\u001b[0m\n\u001b[0;32m    509\u001b[0m \u001b[38;5;28;01mtry\u001b[39;00m:\n\u001b[0;32m    510\u001b[0m     \u001b[38;5;28;01mwhile\u001b[39;00m \u001b[38;5;28;01mTrue\u001b[39;00m:\n\u001b[1;32m--> 511\u001b[0m         answer \u001b[38;5;241m=\u001b[39m smart_decode(\u001b[38;5;28;43mself\u001b[39;49m\u001b[38;5;241;43m.\u001b[39;49m\u001b[43mstream\u001b[49m\u001b[38;5;241;43m.\u001b[39;49m\u001b[43mreadline\u001b[49m\u001b[43m(\u001b[49m\u001b[43m)\u001b[49m[:\u001b[38;5;241m-\u001b[39m\u001b[38;5;241m1\u001b[39m])\n\u001b[0;32m    512\u001b[0m         logger\u001b[38;5;241m.\u001b[39mdebug(\u001b[38;5;124m\"\u001b[39m\u001b[38;5;124mAnswer received: \u001b[39m\u001b[38;5;132;01m{0}\u001b[39;00m\u001b[38;5;124m\"\u001b[39m\u001b[38;5;241m.\u001b[39mformat(answer))\n\u001b[0;32m    513\u001b[0m         \u001b[38;5;66;03m# Happens when a the other end is dead. There might be an empty\u001b[39;00m\n\u001b[0;32m    514\u001b[0m         \u001b[38;5;66;03m# answer before the socket raises an error.\u001b[39;00m\n",
      "File \u001b[1;32mE:\\Anaconda\\lib\\socket.py:704\u001b[0m, in \u001b[0;36mSocketIO.readinto\u001b[1;34m(self, b)\u001b[0m\n\u001b[0;32m    702\u001b[0m \u001b[38;5;28;01mwhile\u001b[39;00m \u001b[38;5;28;01mTrue\u001b[39;00m:\n\u001b[0;32m    703\u001b[0m     \u001b[38;5;28;01mtry\u001b[39;00m:\n\u001b[1;32m--> 704\u001b[0m         \u001b[38;5;28;01mreturn\u001b[39;00m \u001b[38;5;28;43mself\u001b[39;49m\u001b[38;5;241;43m.\u001b[39;49m\u001b[43m_sock\u001b[49m\u001b[38;5;241;43m.\u001b[39;49m\u001b[43mrecv_into\u001b[49m\u001b[43m(\u001b[49m\u001b[43mb\u001b[49m\u001b[43m)\u001b[49m\n\u001b[0;32m    705\u001b[0m     \u001b[38;5;28;01mexcept\u001b[39;00m timeout:\n\u001b[0;32m    706\u001b[0m         \u001b[38;5;28mself\u001b[39m\u001b[38;5;241m.\u001b[39m_timeout_occurred \u001b[38;5;241m=\u001b[39m \u001b[38;5;28;01mTrue\u001b[39;00m\n",
      "\u001b[1;31mKeyboardInterrupt\u001b[0m: "
     ]
    }
   ],
   "source": [
    "consumer = KafkaConsumer(\n",
    "    'health_data',\n",
    "    bootstrap_servers=['localhost:9092'],\n",
    "    auto_offset_reset='latest',\n",
    "    enable_auto_commit=True,\n",
    "    value_deserializer=lambda x: json.loads(x.decode('utf-8'))\n",
    ")\n",
    "producer = KafkaProducer(bootstrap_servers='localhost:9092', security_protocol='PLAINTEXT')\n",
    "pipeline.setStages([assembler])\n",
    "for message in consumer:\n",
    "    row = Row(**message.value)\n",
    "    print(row)\n",
    "    df_row = spark.createDataFrame([row]).select(variables)\n",
    "    df_row = pipeline.fit(df_row).transform(df_row)\n",
    "    predicted_class_row = int(lr.transform(df_row).select('prediction').collect()[0]['prediction'])\n",
    "    row_dict = row.asDict()\n",
    "    row_dict['Diabetes_012'] = predicted_class_row\n",
    "    print(row_dict)\n",
    "    producer.send(\n",
    "        topic=\"health_data_predicted\",\n",
    "        value=json.dumps(row_dict).encode('utf-8')\n",
    "    )\n",
    "    time.sleep(random.randint(500, 2000)/ 1000.0)\n",
    "    \n",
    "    \n",
    "    "
   ]
  },
  {
   "cell_type": "code",
   "execution_count": null,
   "id": "8e871bf2",
   "metadata": {},
   "outputs": [],
   "source": []
  }
 ],
 "metadata": {
  "kernelspec": {
   "display_name": "Python 3 (ipykernel)",
   "language": "python",
   "name": "python3"
  },
  "language_info": {
   "codemirror_mode": {
    "name": "ipython",
    "version": 3
   },
   "file_extension": ".py",
   "mimetype": "text/x-python",
   "name": "python",
   "nbconvert_exporter": "python",
   "pygments_lexer": "ipython3",
   "version": "3.9.12"
  }
 },
 "nbformat": 4,
 "nbformat_minor": 5
}
